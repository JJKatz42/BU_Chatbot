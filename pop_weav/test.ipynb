{
 "cells": [
  {
   "cell_type": "code",
   "execution_count": null,
   "metadata": {},
   "outputs": [],
   "source": []
  },
  {
   "cell_type": "markdown",
   "metadata": {},
   "source": [
    "# Boston University Academics  Boston University    * Admissions   * Academics   * Research   * Global   * Campus Life   * About    * Schools & Colleges   * Bulletin   * Degree Programs   * Policies   * Search Academics  Home  QuestromCoursesCourses  # Financial Accounting  ## QST AC 221  Credits:      4 Undergraduate Prerequisites:      QST SM131; QST SM132 previous or concurrent.  Basic concepts underlying financial statements and accounting procedures used in preparing statements of financial position, income statements, and statements of cash flow. Stresses the interpretation, analysis, and evaluation of published financial statements.  #### **FALL 2022** Schedule  Section | Instructor | Location | Schedule | Notes   ---|---|---|---|---   A1 | Packard | HAR 306 | TR 8:00 am-9:15 am | Class Closed      #### **FALL 2022** Schedule  Section | Instructor | Location | Schedule | Notes   ---|---|---|---|---   B1 | Packard | HAR 306 | TR 9:30 am-10:45 am | Class Closed      #### **FALL 2022** Schedule  Section | Instructor | Location | Schedule | Notes   ---|---|---|---|---   C1 | Lisowsky | HAR 414 | TR 11:00 am-12:15 pm | Class Closed      #### **FALL 2022** Schedule  Section | Instructor | Location | Schedule | Notes   ---|---|---|---|---   D1 | Schino | HAR 324 | MW 12:20 pm-1:10 pm | Class Closed   D1 | Schino | HAR 304 | F 12:20 pm-1:10 pm | Class Closed      #### **FALL 2022** Schedule  Section | Instructor | Location | Schedule | Notes   ---|---|---|---|---   E1 | Lisowsky | HAR 414 | TR 9:30 am-10:45 am | Class Closed      #### **FALL 2022** Schedule  Section | Instructor | Location | Schedule | Notes   ---|---|---|---|---   F1 | Li | HAR 210 | TR 2:00 pm-3:15 pm | Class Closed      #### **FALL 2022** Schedule  Section | Instructor | Location | Schedule | Notes   ---|---|---|---|---   G1 | Schino | HAR 212 | MW 11:15 am-12:05 pm | Class Closed   G1 | Schino | HAR 304 | F 11:15 am-12:05 pm | Class Closed      #### **FALL 2022** Schedule  Section | Instructor | Location | Schedule | Notes   ---|---|---|---|---   H1 | Chan | HAR 304 | TR 2:00 pm-3:15 pm | Class Closed      #### **FALL 2022** Schedule  Section | Instructor | Location | Schedule | Notes   ---|---|---|---|---   I1 | Chan | HAR 322 | TR 3:30 pm-4:45 pm | Class Closed      #### **FALL 2022** Schedule  Section | Instructor | Location | Schedule | Notes   ---|---|---|---|---   J1 | Schino | HAR 212 | MW 10:10 am-11:00 am | Class Closed   J1 | Schino | HAR 304 | F 10:10 am-11:00 am | Class Closed      #### **SPRG 2023** Schedule  Section | Instructor | Location | Schedule | Notes   ---|---|---|---|---   A1 | Schino | HAR 220 | MWF 10:10 am-11:00 am | Class Closed      #### **SPRG 2023** Schedule  Section | Instructor | Location | Schedule | Notes   ---|---|---|---|---   B1 | Schino | HAR 220 | MWF 11:15 am-12:05 pm | Class Closed      #### **SPRG 2023** Schedule  Section | Instructor | Location | Schedule | Notes   ---|---|---|---|---   C1 | Packard | HAR 224 | TR 8:00 am-9:15 am |"
   ]
  }
 ],
 "metadata": {
  "language_info": {
   "name": "python"
  },
  "orig_nbformat": 4
 },
 "nbformat": 4,
 "nbformat_minor": 2
}
