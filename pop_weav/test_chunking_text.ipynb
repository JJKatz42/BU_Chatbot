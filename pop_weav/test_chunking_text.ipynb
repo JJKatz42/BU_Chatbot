{
 "cells": [
  {
   "cell_type": "code",
   "execution_count": 10,
   "metadata": {},
   "outputs": [
    {
     "name": "stdout",
     "output_type": "stream",
     "text": [
      "[]\n"
     ]
    }
   ],
   "source": [
    "\n",
    "from langchain.text_splitter import MarkdownTextSplitter, RecursiveCharacterTextSplitter, MarkdownHeaderTextSplitter\n",
    "\n",
    "text_delimiters = [\"\\n\\n\", \"\\n\", \"  \", \" \", \"   \", \"\", \"#\", \"##\"]\n",
    "\n",
    "text_splitter = MarkdownTextSplitter()\n",
    "\n",
    "webpage_content = \"# [Boston University Academics](http://www.bu.edu/)  Boston University    * [Admissions](http://www.bu.edu/apply)   * [Academics](https://www.bu.edu/academics/)   * [Research](http://www.bu.edu/research/)   * [Global](http://www.bu.edu/global/)   * [Campus Life](http://www.bu.edu/life/campus/)   * [About](http://www.bu.edu/info/about/)    * [Schools & Colleges](https://www.bu.edu/academics/schools-colleges/)   * [Bulletin](https://www.bu.edu/academics/bulletin/)   * [Degree Programs](https://www.bu.edu/academics/degree-programs/)   * [Policies](https://www.bu.edu/academics/policies/)   * [Search Academics](https://www.bu.edu/academics/search/)  [Home](/academics/bulletin/)  [Questrom](https://www.bu.edu/academics/questrom/)Courses[Courses](https://www.bu.edu/academics/questrom/courses/)  # Professional Skills  ## QST ES 724  Credits:      1  The Professional Skills Collection consists of three elements integrated into the full time MBA curriculum: Communications; Teaming, and Career Management. First, Communications focuses on both oral elements - including development of a presenter's delivery skills and message clarity - and writing elements - including how to exercise leadership through writing and understanding how strategies of written communication are an essential aspect of effective management. Second, Teaming will support student work on teams while also assessing the dynamics by which teams form, develop, change, achieve success and transform or disband. Third, Career Management will assist students in transforming personal interests into professional goals, and these goals into an MBA level, candidate-driven internship and job search through a set of complementary resources and activities. Each of the three professional skills elements are integrated within, and delivered alongside, the integrated modular MBA core experience.  Note that this information [may change](/academics/disclaimer/) at any time. Please visit the [Student Link](http://www.bu.edu/studentlink/) for the most up-to-date course information.    * [Programs](https://www.bu.edu/academics/questrom/programs/)   * [Courses](https://www.bu.edu/academics/questrom/courses/)     * [Accounting](https://www.bu.edu/academics/questrom/courses/accounting/)     * [Business Analytics](https://www.bu.edu/academics/questrom/courses/business-analytics/)     * [Career Skills](https://www.bu.edu/academics/questrom/courses/career-planning/)     * [Communications](https://www.bu.edu/academics/questrom/courses/communications/)     * [Corporate Social Responsibility](https://www.bu.edu/academics/questrom/courses/corporate-social-responsibility/)     * [Doctoral Studies](https://www.bu.edu/academics/questrom/courses/doctoral-dissertation-section/)     * [Executive Skills](https://www.bu.edu/academics/questrom/courses/executive-skills/)     * [Finance](https://www.bu.edu/academics/questrom/courses/finance/)     * [Health Sector Management](https://www.bu.edu/academics/questrom/courses/health-# [Boston University Academics](http://www.bu.edu/)  Boston University    * [Admissions](http://www.bu.edu/apply)   * [Academics](https://www.bu.edu/academics/)   * [Research](http://www.bu.edu/research/)   * [Global](http://www.bu.edu/global/)   * [Campus Life](http://www.bu.edu/life/campus/)   * [About](http://www.bu.edu/info/about/)    * [Schools & Colleges](https://www.bu.edu/academics/schools-colleges/)   * [Bulletin](https://www.bu.edu/academics/bulletin/)   * [Degree Programs](https://www.bu.edu/academics/degree-programs/)   * [Policies](https://www.bu.edu/academics/policies/)   * [Search Academics](https://www.bu.edu/academics/search/)  [Home](/academics/bulletin/)  [Questrom](https://www.bu.edu/academics/questrom/)Courses[Courses](https://www.bu.edu/academics/questrom/courses/)  # Directed Study: Accounting  ## QST AC 999  Credits:      Var Graduate Prerequisites:      consent of instructor and the department chairman  PhD-level directed study in Accounting. 1, 2, or 3 cr. Application available on the Graduate Program Office website.  Note that this information [may change](/academics/disclaimer/) at any time. Please visit the [Student Link](http://www.bu.edu/studentlink/) for the most up-to-date course information.    * [Programs](https://www.bu.edu/academics/questrom/programs/)   * [Courses](https://www.bu.edu/academics/questrom/courses/)     * [Accounting](https://www.bu.edu/academics/questrom/courses/accounting/)     * [Business Analytics](https://www.bu.edu/academics/questrom/courses/business-analytics/)     * [Career Skills](https://www.bu.edu/academics/questrom/courses/career-planning/)     * [Communications](https://www.bu.edu/academics/questrom/courses/communications/)     * [Corporate Social Responsibility](https://www.bu.edu/academics/questrom/courses/corporate-social-responsibility/)     * [Doctoral Studies](https://www.bu.edu/academics/questrom/courses/doctoral-dissertation-section/)     * [Executive Skills](https://www.bu.edu/academics/questrom/courses/executive-skills/)     * [Finance](https://www.bu.edu/academics/questrom/courses/finance/)     * [Health Sector Management](https://www.bu.edu/academics/questrom/courses/health-sector/)     * [International Management](https://www.bu.edu/academics/questrom/courses/international-management/)     * [Management & Organizations](https://www.bu.edu/academics/questrom/courses/management-organizations/)     * [Management Core](https://www.bu.edu/academics/questrom/courses/management-core/)     * [Management Information Systems](https://www.bu.edu/academics/questrom/courses/management-information-systems/)     * [Management Studies](https://www.bu.edu/academics/questrom/courses/management-studies/)     * [Marketing](https://www.bu.edu/academics/questrom/courses/marketing/)     * [Markets, Public Policy & Law](https://www.bu.edu/academics/questrom/courses/markets-public-policy-and-law/)     * [Mathematical Finance](https://www.bu.edu/academics/questrom/courses/math-finance/)     *[Management & Organizations](https://www.bu.edu/academics/questrom/courses/management-organizations/)     * [Management Core](https://www.bu.edu/academics/questrom/courses/management-core/)     * [Management Information Systems](https://www.bu.edu/academics/questrom/courses/management-information-systems/)     * [Management Studies](https://www.bu.edu/academics/questrom/courses/management-studies/)     * [Marketing](https://www.bu.edu/academics/questrom/courses/marketing/)     * [Markets, Public Policy & Law](https://www.bu.edu/academics/questrom/courses/markets-public-policy-and-law/)     * [Mathematical Finance](https://www.bu.edu/academics/questrom/courses/math-finance/)     * [Online MBA Courses](https://www.bu.edu/academics/questrom/courses/online-mba-courses/)     * [Operations & Technology Management](https://www.bu.edu/academics/questrom/courses/operations-technology-management/)     * [Quantitative Modeling](https://www.bu.edu/academics/questrom/courses/quantitative-modeling/)     * [Strategy & Innovation](https://www.bu.edu/academics/questrom/courses/strategy-innovation/)   * [Policies](https://www.bu.edu/academics/questrom/policies/)   * [Academic and Student Resources](https://www.bu.edu/academics/questrom/academic-and-student-resources/)   * [Honorary, Service, and Professional Organizations](https://www.bu.edu/academics/questrom/honorary-service-and-professional-organizations/)  ## Terms of Use  Note that this information may change at any time. [Read the full terms of use](/academics/disclaimer).  ## related websites    * [Questrom School of Business](http://www.bu.edu/questrom/)  ## Accreditation  Boston University is accredited by the [New England Commission of Higher Education](http://cihe.neasc.org/) (NECHE).  [![Boston University](/academics/files/bu-logo.gif)](http://www.bu.edu/)  [![Boston University](/academics/files/2022/05/BU-Seal-transparent- grayscale.png)](http://www.bu.edu/)    * [© Copyright](http://www.bu.edu/copyright \\\"Copyright\\\")   * [About BU](http://www.bu.edu/info/about/ \\\"About BU\\\")   * [Search](http://www.bu.edu/search/ \\\"Search\\\")   * [Directory](http://www.bu.edu/directory/ \\\"Directory\\\")   * [Maps](http://www.bu.edu/maps/ \\\"Maps\\\")   * [Contact](http://www.bu.edu/contact/ \\\"Contact\\\")   * [Disclaimer](https://www.bu.edu/academics/disclaimer/ \\\"Disclaimer\\\")    * [Mobile Version](/academics/questrom/courses/qst-ba-472/?wantsMobile=true)2022** Schedule  Section | Instructor | Location | Schedule | Notes   ---|---|---|---|---   H1 | Fionda | HAR 240 | TR 12:30 pm-1:45 pm | Class Closed      #### **FALL 2022** Schedule  Section | Instructor | Location | Schedule | Notes   ---|---|---|---|---   I1 | Andrade | HAR 404 | TR 5:00 pm-6:15 pm | Class Closed      #### **FALL 2022** Schedule  Section | Instructor | Location | Schedule | Notes   ---|---|---|---|---   J1 | Fionda | HAR 302 | TR 9:30 am-10:45 am | Class Closed      #### **FALL 2022** Schedule  Section | Instructor | Location | Schedule | Notes   ---|---|---|---|---   K1 | Andrade | HAR 404 | TR 3:30 pm-4:45 pm | Class Closed      #### **SPRG 2023** Schedule  Section | Instructor | Location | Schedule | Notes   ---|---|---|---|---   A1 | Asadoorian | HAR 322 | MWF 9:05 am-9:55 am | Class Closed      #### **SPRG 2023** Schedule  Section | Instructor | Location | Schedule | Notes   ---|---|---|---|---   B1 | Asadoorian | HAR 322 | MWF 10:10 am-11:00 am | Class Closed      #### **SPRG 2023** Schedule  Section | Instructor | Location | Schedule | Notes   ---|---|---|---|---   C1 | Asadoorian | HAR 322 | MWF 11:15 am-12:05 pm | Class Closed      #### **SPRG 2023** Schedule  Section | Instructor | Location | Schedule | Notes   ---|---|---|---|---   D1 | Asadoorian | HAR 322 | MWF 1:25 pm-2:15 pm | Class Closed      #### **SPRG 2023** Schedule  Section | Instructor | Location | Schedule | Notes   ---|---|---|---|---   E1 | Andrade | HAR 312 | TR 8:00 am-9:15 am | Class Closed      #### **SPRG 2023** Schedule  Section | Instructor | Location | Schedule | Notes   ---|---|---|---|---   F1 | Andrade | HAR 312 | TR 9:30 am-10:45 am | Class Closed      #### **SPRG 2023** Schedule  Section | Instructor | Location | Schedule | Notes   ---|---|---|---|---   G1 | Fionda | HAR 322 | TR 2:00 pm-3:15 pm | Class Closed      #### **SPRG 2023** Schedule  Section | Instructor | Location | Schedule | Notes   ---|---|---|---|---   H1 | Fionda | HAR 322 | TR 3:30 pm-4:45 pm | Class Closed      Note: this course was also offered during [Summer Term](http://www.bu.edu/summer/courses/)  Note that this information [may change](/academics/disclaimer/) at any time. Please visit the [Student Link](http://www.bu.edu/studentlink/) for the most up-to-date course information.    * [Programs](https://www.bu.edu/academics/questrom/programs/)   * [Courses](https://www.bu.edu/academics/questrom/courses/)     * [Accounting](https://www.bu.edu/academics/questrom/courses/accounting/)     * [Business Analytics](https://www.bu.edu/academics/questrom/courses/business-analytics/)     * [Career Skills](https://www.bu.edu/academics/questrom/courses/career-planning/)     * [Communications](https://www.bu.edu/academics/questrom/courses/communications/)     * [Corporate Social Responsibility](https://www.bu.edu/academics/questrom/courses/corporate-social-responsibility/)     * [Doctoral Studies](https://www.bu.edu/academics/questrom/courses/doctoral-dissertation-section/)     *\"\n",
    "\n",
    "headers_to_split_on = [\n",
    "    (\"#\", \"Header 1\"),\n",
    "    (\"##\", \"Header 2\"),\n",
    "    (\"###\", \"Header 3\"),\n",
    "]\n",
    "\n",
    "markdown_splitter = MarkdownHeaderTextSplitter(headers_to_split_on=headers_to_split_on)\n",
    "md_header_splits = markdown_splitter.split_text(webpage_content)\n",
    "\n",
    "\n",
    "print(md_header_splits)"
   ]
  },
  {
   "cell_type": "code",
   "execution_count": 9,
   "metadata": {},
   "outputs": [
    {
     "name": "stdout",
     "output_type": "stream",
     "text": [
      "[Document(page_content='Hi this is Jim  \\nHi this is Joe', metadata={'Header 1': 'Foo', 'Header 2': 'Bar'}), Document(page_content='Hi this is Lance', metadata={'Header 1': 'Foo', 'Header 2': 'Bar', 'Header 3': 'Boo'}), Document(page_content='Hi this is Molly', metadata={'Header 1': 'Foo', 'Header 2': 'Baz'})]\n"
     ]
    }
   ],
   "source": [
    "from langchain.text_splitter import MarkdownHeaderTextSplitter\n",
    "\n",
    "markdown_document = \"# Foo\\n\\n    ## Bar\\n\\nHi this is Jim\\n\\nHi this is Joe\\n\\n ### Boo \\n\\n Hi this is Lance \\n\\n ## Baz\\n\\n Hi this is Molly\"\n",
    "\n",
    "headers_to_split_on = [\n",
    "    (\"#\", \"Header 1\"),\n",
    "    (\"##\", \"Header 2\"),\n",
    "    (\"###\", \"Header 3\"),\n",
    "]\n",
    "\n",
    "markdown_splitter = MarkdownHeaderTextSplitter(headers_to_split_on=headers_to_split_on)\n",
    "md_header_splits = markdown_splitter.split_text(markdown_document)\n",
    "\n",
    "\n",
    "print(md_header_splits)"
   ]
  }
 ],
 "metadata": {
  "kernelspec": {
   "display_name": "Python 3",
   "language": "python",
   "name": "python3"
  },
  "language_info": {
   "codemirror_mode": {
    "name": "ipython",
    "version": 3
   },
   "file_extension": ".py",
   "mimetype": "text/x-python",
   "name": "python",
   "nbconvert_exporter": "python",
   "pygments_lexer": "ipython3",
   "version": "3.10.4"
  },
  "orig_nbformat": 4
 },
 "nbformat": 4,
 "nbformat_minor": 2
}
