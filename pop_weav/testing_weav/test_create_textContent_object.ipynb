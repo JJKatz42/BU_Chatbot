{
 "cells": [
  {
   "cell_type": "code",
   "execution_count": null,
   "metadata": {},
   "outputs": [],
   "source": [
    "import uuid\n",
    "import glob\n",
    "from bs4 import BeautifulSoup\n",
    "import textwrap\n",
    "import json\n",
    "import os\n",
    "import weaviate\n",
    "\n",
    "client = weaviate.Client(\"http://localhost:8080\")\n",
    "\n",
    "# Directory that contains HTML files\n",
    "directory = '/workspaces/BU_Chatbot/weavdb_direct'\n",
    "\n",
    "# Iterate over the first 5 HTML files in the directory\n",
    "for filepath in glob.glob(os.path.join(directory, '*.html'))[:5]:  # limit to first 5 files\n",
    "    with open(filepath, 'r') as file:\n",
    "        raw_html = str(file.read())\n",
    "        \n",
    "    # Get URL from the filename\n",
    "    url = str(os.path.splitext(os.path.basename(filepath))[0]).replace('-', '/')\n",
    "    \n",
    "    # Unique id for the webpage\n",
    "    webpage_id = str(uuid.uuid4())\n",
    "\n",
    "    # Create a Webpage object\n",
    "    webpage_obj = {\n",
    "        \"class\": \"Webpage\",\n",
    "        \"url_id\": webpage_id,\n",
    "        \"url\": url,\n",
    "        \"raw_html\": raw_html\n",
    "    }\n",
    "    # Add the object to Weaviate\n",
    "    client.data_object.create(webpage_obj, \"Webpage\")"
   ]
  }
 ],
 "metadata": {
  "language_info": {
   "name": "python"
  },
  "orig_nbformat": 4
 },
 "nbformat": 4,
 "nbformat_minor": 2
}
